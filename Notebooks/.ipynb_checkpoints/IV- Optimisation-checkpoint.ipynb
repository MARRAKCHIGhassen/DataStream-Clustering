{
 "cells": [
  {
   "cell_type": "markdown",
   "id": "bd4d8e38",
   "metadata": {},
   "source": [
    "<center>&copy; | Ghassen <strong>MARRAKCHI</strong> - 2022</center>"
   ]
  },
  {
   "cell_type": "markdown",
   "id": "73a8a752",
   "metadata": {},
   "source": [
    "<img src=\"__src/LIPN.png\" style=\"\" width=\"300\">\n",
    "<hr>"
   ]
  },
  {
   "cell_type": "markdown",
   "id": "85fbf38b",
   "metadata": {},
   "source": [
    "<h1 style=\"text-align:center;color:#5a84ba\"><center>Benchmarking Clustering DataStream</center></h1>\n",
    "<h2><center><strong><font color='#3f4a4f'>Datasets Exploratory</font></strong></center></h2>"
   ]
  },
  {
   "cell_type": "markdown",
   "id": "43627bdb",
   "metadata": {},
   "source": [
    "<hr>\n",
    "<h3><center><strong><font color='#3f4a4f'>IV- Optimisation</font></strong></center></h3>\n",
    "<hr>"
   ]
  },
  {
   "cell_type": "markdown",
   "id": "2e63471a",
   "metadata": {},
   "source": [
    "<h4><strong><font color='#353b38'>Plan de Travail</font></strong></h4>"
   ]
  },
  {
   "cell_type": "markdown",
   "id": "0fcf777e",
   "metadata": {},
   "source": [
    "<ol style=\"list-style-type: upper-roman;\">\n",
    "    <li><a href=\"I- Introduction.ipynb\">Introduction</a></li>\n",
    "    <li><a href=\"II- Exploration.ipynb\">Exploration</a></li>\n",
    "    <li><a href=\"III- Analysis.ipynb\">Analysis</a></li>\n",
    "    <li><strong>Optimisation</strong></li>\n",
    "</ol>"
   ]
  },
  {
   "cell_type": "markdown",
   "id": "0626e011",
   "metadata": {},
   "source": [
    "<hr>\n",
    "<h4><strong><font color='#353b38'>Objectifs</font></strong></h4>"
   ]
  },
  {
   "cell_type": "markdown",
   "id": "e6ae0777",
   "metadata": {},
   "source": [
    "- Ajuster les paramètres pour de meilleurs résultats expériementaux."
   ]
  },
  {
   "cell_type": "markdown",
   "id": "300e104d",
   "metadata": {},
   "source": [
    "<hr>\n",
    "<h4><strong><font color='#353b38'>Jeux de données</font></strong></h4>"
   ]
  },
  {
   "cell_type": "markdown",
   "id": "887fcb40",
   "metadata": {},
   "source": [
    "Des jeux de données créés dans le but d'un benchmarking de classification en datastream. (<i><a href=\"https://link.springer.com/article/10.1007/s10618-020-00698-5\">papier scientifique</a></i>)"
   ]
  },
  {
   "cell_type": "markdown",
   "id": "7d2f208b",
   "metadata": {},
   "source": [
    "<ul>\n",
    "    <li><a href=\"\"><strong>INSECTS_abrupt_balanced_norm</strong></a></li>\n",
    "    <li><a href=\"\"><strong>INSECTS_abrupt_imbalanced_norm</strong></a></li>\n",
    "    <li><a href=\"\"><strong>INSECTS_gradual_balanced_norm</strong></a></li>\n",
    "    <li><a href=\"\"><strong>INSECTS_gradual_imbalanced_norm</strong></a></li>\n",
    "    <li><a href=\"\"><strong>INSECTS_incremental_abrupt_balanced_norm</strong></a></li>\n",
    "    <li><a href=\"\"><strong>INSECTS_incremental_abrupt_imbalanced_norm</strong></a></li>\n",
    "    <li><a href=\"\"><strong>INSECTS_incremental_balanced_norm</strong></a></li>\n",
    "    <li><a href=\"\"><strong>INSECTS_incremental_imbalanced_norm</strong></a></li>\n",
    "    <li><a href=\"\"><strong>INSECTS_incremental_reoccurring_balanced_norm</strong></a></li>\n",
    "    <li><a href=\"\"><strong>INSECTS_incremental_reoccurring_imbalanced_norm</strong></a></li>\n",
    "    <li><a href=\"\"><strong>INSECTS_out_of_control_norm</strong></a></li>\n",
    "</ul>"
   ]
  },
  {
   "cell_type": "markdown",
   "id": "cb2e31df",
   "metadata": {},
   "source": [
    "Des jeux de données créés pour différents but."
   ]
  },
  {
   "cell_type": "markdown",
   "id": "6756e0f6",
   "metadata": {},
   "source": [
    "<ul>\n",
    "    <li><a href=\"\"><strong>AIRLINES</strong></a></li>\n",
    "    <li><a href=\"\"><strong>CHESS</strong></a></li>\n",
    "    <li><a href=\"\"><strong>COVTYPE</strong></a></li>\n",
    "    <li><a href=\"\"><strong>ELEC</strong></a></li>\n",
    "    <li><a href=\"\"><strong>KDD_CUP_99</strong></a></li>\n",
    "    <li><a href=\"\"><strong>Key_Stroke</strong></a></li>\n",
    "    <li><a href=\"\"><strong>Luxembourg</strong></a></li>\n",
    "    <li><a href=\"\"><strong>NOAA</strong></a></li>\n",
    "    <li><a href=\"\"><strong>Outdoor</strong></a></li>\n",
    "    <li><a href=\"\"><strong>Ozone</strong></a></li>\n",
    "    <li><a href=\"\"><strong>Poker_LSN</strong></a></li>\n",
    "    <li><a href=\"\"><strong>Power_Supply</strong></a></li>\n",
    "    <li><a href=\"\"><strong>Rialto</strong></a></li>\n",
    "    <li><a href=\"\"><strong>Sensor_Stream</strong></a></li>\n",
    "    <li><a href=\"\"><strong>Spam_Assassin</strong></a></li>\n",
    "    <li><a href=\"\"><strong>Gassenor</strong></a></li>\n",
    "</ul>"
   ]
  },
  {
   "cell_type": "markdown",
   "id": "f54474c2",
   "metadata": {},
   "source": [
    "<hr>\n",
    "<div style=\"display: flex;\">\n",
    "    <div style=\"margin: 10px;\"><strong><a href=\"III- Analysis.ipynb\">précédent</a></strong></div>\n",
    "    <div style=\"margin: 10px; color: gray;\"><strong>suivant</strong></div>\n",
    "</div>"
   ]
  }
 ],
 "metadata": {
  "kernelspec": {
   "display_name": "Python 3 (ipykernel)",
   "language": "python",
   "name": "python3"
  },
  "language_info": {
   "codemirror_mode": {
    "name": "ipython",
    "version": 3
   },
   "file_extension": ".py",
   "mimetype": "text/x-python",
   "name": "python",
   "nbconvert_exporter": "python",
   "pygments_lexer": "ipython3",
   "version": "3.9.12"
  }
 },
 "nbformat": 4,
 "nbformat_minor": 5
}
