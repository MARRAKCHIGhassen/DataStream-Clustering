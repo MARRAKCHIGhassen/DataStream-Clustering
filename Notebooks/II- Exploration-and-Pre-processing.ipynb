{
 "cells": [
  {
   "cell_type": "markdown",
   "id": "bd4d8e38",
   "metadata": {},
   "source": [
    "<center>&copy; | Ghassen <strong>MARRAKCHI</strong> - 2022</center>"
   ]
  },
  {
   "cell_type": "markdown",
   "id": "73a8a752",
   "metadata": {},
   "source": [
    "<img src=\"__src/LIPN.png\" style=\"\" width=\"300\">\n",
    "<hr>"
   ]
  },
  {
   "cell_type": "markdown",
   "id": "85fbf38b",
   "metadata": {},
   "source": [
    "<h1 style=\"text-align:center;color:#5a84ba\"><center>Benchmarking Clustering DataStream</center></h1>\n",
    "<h2><center><strong><font color='#3f4a4f'>Datasets Exploratory</font></strong></center></h2>"
   ]
  },
  {
   "cell_type": "markdown",
   "id": "43627bdb",
   "metadata": {},
   "source": [
    "<hr>\n",
    "<h3><center><strong><font color='#3f4a4f'>II- Exploration</font></strong></center></h3>\n",
    "<hr>"
   ]
  },
  {
   "cell_type": "markdown",
   "id": "2e63471a",
   "metadata": {},
   "source": [
    "<h4><strong><font color='#353b38'>Plan de Travail</font></strong></h4>"
   ]
  },
  {
   "cell_type": "markdown",
   "id": "0fcf777e",
   "metadata": {},
   "source": [
    "<ol style=\"list-style-type: upper-roman;\">\n",
    "    <li><a href=\"III- Analysis.ipynb\">Introduction</a></li>\n",
    "    <li><strong>Exploration</strong></li>\n",
    "    <li><a href=\"III- Analysis.ipynb\">Analysis</a></li>\n",
    "    <li><a href=\"IV- Optimisation.ipynb\">Optimisation</a></li>\n",
    "</ol>"
   ]
  },
  {
   "cell_type": "markdown",
   "id": "0626e011",
   "metadata": {},
   "source": [
    "<hr>\n",
    "<h4><strong><font color='#353b38'>Objectifs</font></strong></h4>"
   ]
  },
  {
   "cell_type": "markdown",
   "id": "e6ae0777",
   "metadata": {},
   "source": [
    "- Analyser les jeux de données."
   ]
  },
  {
   "cell_type": "markdown",
   "id": "154a4c04",
   "metadata": {},
   "source": [
    "<hr>\n",
    "<h4 id=\"SOMMAIRE\"><strong><font color='#353b38'>Jeux de données</font></strong></h4>"
   ]
  },
  {
   "cell_type": "markdown",
   "id": "e1331372",
   "metadata": {},
   "source": [
    "<ul>\n",
    "    <li><a href=\"#INSECTS_abrupt_balanced_norm\"><strong>INSECTS_abrupt_balanced_norm</strong></a></li>\n",
    "    <li><a href=\"#INSECTS_abrupt_imbalanced_norm\"><strong>INSECTS_abrupt_imbalanced_norm</strong></a></li>\n",
    "    <li><a href=\"#INSECTS_gradual_balanced_norm\"><strong>INSECTS_gradual_balanced_norm</strong></a></li>\n",
    "    <li><a href=\"#INSECTS_gradual_imbalanced_norm\"><strong>INSECTS_gradual_imbalanced_norm</strong></a></li>\n",
    "    <li><a href=\"#INSECTS_incremental_abrupt_balanced_norm\"><strong>INSECTS_incremental_abrupt_balanced_norm</strong></a></li>\n",
    "    <li><a href=\"#INSECTS_incremental_abrupt_imbalanced_norm\"><strong>INSECTS_incremental_abrupt_imbalanced_norm</strong></a></li>\n",
    "    <li><a href=\"#INSECTS_incremental_balanced_norm\"><strong>INSECTS_incremental_balanced_norm</strong></a></li>\n",
    "    <li><a href=\"#INSECTS_incremental_imbalanced_norm\"><strong>INSECTS_incremental_imbalanced_norm</strong></a></li>\n",
    "    <li><a href=\"#INSECTS_incremental_reoccurring_balanced_norm\"><strong>INSECTS_incremental_reoccurring_balanced_norm</strong></a></li>\n",
    "    <li><a href=\"#INSECTS_incremental_reoccurring_imbalanced_norm\"><strong>INSECTS_incremental_reoccurring_imbalanced_norm</strong></a></li>\n",
    "    <li><a href=\"#INSECTS_out_of_control_norm\"><strong>INSECTS_out_of_control_norm</strong></a></li>\n",
    "</ul>"
   ]
  },
  {
   "cell_type": "markdown",
   "id": "80c5f7d2",
   "metadata": {},
   "source": [
    "<h4><strong><font color='#353b38'>Configuration générale du notebook</font></strong></h4>"
   ]
  },
  {
   "cell_type": "code",
   "execution_count": 1,
   "id": "e79f0462",
   "metadata": {},
   "outputs": [],
   "source": [
    "# Importation des paquets\n",
    "import os\n",
    "import json\n",
    "\n",
    "import pandas as pd\n",
    "import matplotlib.pyplot as plt\n",
    "import seaborn as sns\n",
    "import numpy as np\n",
    "\n",
    "from scipy.io import arff\n",
    "from tqdm import tqdm\n",
    "from sklearn import preprocessing"
   ]
  },
  {
   "cell_type": "code",
   "execution_count": 2,
   "id": "d059e03f",
   "metadata": {},
   "outputs": [],
   "source": [
    "# Jeux de données\n",
    "DATASETS = dict()\n",
    "DATASETS_DIR = os.path.abspath(os.path.join(\"..\", \"Datasets\"))\n",
    "\n",
    "DATASETS_BRUTES_DIR = os.path.abspath(os.path.join(\"..\", \"Datasets\", \"brute\"))\n",
    "DATASETS_PRE_PROCESS_DIR = os.path.abspath(os.path.join(\"..\", \"Datasets\", \"pre-processed\"))\n",
    "\n",
    "EXPLORATORY_DIR = os.path.abspath(os.path.join(\"..\", \"Exploratory\"))\n",
    "RESULTS_DIR = os.path.abspath(os.path.join(\"..\", \"Results\"))"
   ]
  },
  {
   "cell_type": "code",
   "execution_count": 3,
   "id": "aa69bece",
   "metadata": {},
   "outputs": [
    {
     "name": "stdout",
     "output_type": "stream",
     "text": [
      "--- Nombre de fichiers :  11\n"
     ]
    },
    {
     "name": "stderr",
     "output_type": "stream",
     "text": [
      "100%|██████████| 11/11 [00:00<00:00, 21917.98it/s]"
     ]
    },
    {
     "name": "stdout",
     "output_type": "stream",
     "text": [
      "11  ont été enregistré avec succès !\n"
     ]
    },
    {
     "name": "stderr",
     "output_type": "stream",
     "text": [
      "\n"
     ]
    }
   ],
   "source": [
    "# Jeux de données (Papier scientifique)\n",
    "paper_datasets_dir_string = \"Classification DataStream Benchmark\"\n",
    "\n",
    "PAPER_DATASETS_BRUTES_DIR = os.path.join(DATASETS_BRUTES_DIR, paper_datasets_dir_string)\n",
    "PAPER_DATASETS_PRE_PROCESS_DIR = os.path.join(DATASETS_PRE_PROCESS_DIR, paper_datasets_dir_string)\n",
    "\n",
    "PAPER_EXPLORATORY_DIR = os.path.join(EXPLORATORY_DIR, paper_datasets_dir_string)\n",
    "\n",
    "PAPER_RESULTS_DIR = os.path.join(RESULTS_DIR, paper_datasets_dir_string)\n",
    "\n",
    "\n",
    "\n",
    "## Récupération des fichiers BRUTES\n",
    "files = [file for file in os.listdir(PAPER_DATASETS_BRUTES_DIR)\n",
    "         if (os.path.isfile(os.path.join(PAPER_DATASETS_BRUTES_DIR, file)) and (\".arff\" in file) ) ]\n",
    "print(\"--- Nombre de fichiers : \", len(files))\n",
    "\n",
    "\n",
    "\n",
    "## Enregistrement des informations\n",
    "for file in tqdm(files) :\n",
    "    # Nom du dataset\n",
    "    DATASETS[file.replace(\".arff\", \"\")] = dict()\n",
    "    DATASETS[file.replace(\".arff\", \"\")]['name'] = file.replace(\".arff\", \"\")\n",
    "    \n",
    "    \n",
    "    # Emplacements relatifs au dataset\n",
    "    DATASETS[file.replace(\".arff\", \"\")]['brute-dir'] = PAPER_DATASETS_BRUTES_DIR\n",
    "    DATASETS[file.replace(\".arff\", \"\")]['pre-proc-dir'] = PAPER_DATASETS_PRE_PROCESS_DIR\n",
    "    DATASETS[file.replace(\".arff\", \"\")]['exploratory-dir'] = PAPER_EXPLORATORY_DIR\n",
    "    \n",
    "    reduction_path = os.path.join(PAPER_RESULTS_DIR, file.replace(\".arff\", \"\"), 'Reduction')\n",
    "    if not os.path.exists(reduction_path) :\n",
    "        os.makedirs(reduction_path)\n",
    "    \n",
    "    evaluation_path = os.path.join(PAPER_RESULTS_DIR, file.replace(\".arff\", \"\"), 'Evaluation')\n",
    "    if not os.path.exists(evaluation_path) :\n",
    "        os.makedirs(evaluation_path)\n",
    "        \n",
    "    DATASETS[file.replace(\".arff\", \"\")]['results-dir'] = {'reduction-dir' : reduction_path,\n",
    "                                                          'evaluation-dir': evaluation_path}\n",
    "    \n",
    "\n",
    "\n",
    "## Vérification du processus\n",
    "assert len(files) == len(list(DATASETS.keys()))\n",
    "print(len(list(DATASETS.keys())), \" ont été enregistré avec succès !\")"
   ]
  },
  {
   "cell_type": "code",
   "execution_count": 4,
   "id": "49bdfb48",
   "metadata": {},
   "outputs": [
    {
     "name": "stdout",
     "output_type": "stream",
     "text": [
      "--- Nombre de fichiers :  16\n"
     ]
    },
    {
     "name": "stderr",
     "output_type": "stream",
     "text": [
      "100%|██████████| 16/16 [00:00<00:00, 41502.08it/s]"
     ]
    },
    {
     "name": "stdout",
     "output_type": "stream",
     "text": [
      "16  ont été enregistré avec succès !\n"
     ]
    },
    {
     "name": "stderr",
     "output_type": "stream",
     "text": [
      "\n"
     ]
    }
   ],
   "source": [
    "# Récupération des jeux de données restants\n",
    "\n",
    "\n",
    "## Récupération des fichiers\n",
    "files = [file for file in os.listdir(DATASETS_BRUTES_DIR)\n",
    "         if (os.path.isfile(os.path.join(DATASETS_BRUTES_DIR, file)) and (\".arff\" in file) ) ]\n",
    "print(\"--- Nombre de fichiers : \", len(files))\n",
    "\n",
    "\n",
    "\n",
    "## Enregistrement des informations\n",
    "restant_dataset = dict()\n",
    "\n",
    "for file in tqdm(files) :\n",
    "    # Nom du dataset\n",
    "    restant_dataset[file.replace(\".arff\", \"\")] = dict()\n",
    "    restant_dataset[file.replace(\".arff\", \"\")]['name'] = file.replace(\".arff\", \"\")\n",
    "    \n",
    "    # Emplacements relatifs au dataset\n",
    "    restant_dataset[file.replace(\".arff\", \"\")]['brute-dir'] = DATASETS_BRUTES_DIR\n",
    "    restant_dataset[file.replace(\".arff\", \"\")]['pre-proc-dir'] = DATASETS_PRE_PROCESS_DIR\n",
    "    restant_dataset[file.replace(\".arff\", \"\")]['exploratory-dir'] = EXPLORATORY_DIR\n",
    "    \n",
    "    reduction_path = os.path.join(RESULTS_DIR, file.replace(\".arff\", \"\"), 'Reduction')\n",
    "    if not os.path.exists(reduction_path) :\n",
    "        os.makedirs(reduction_path)\n",
    "    \n",
    "    evaluation_path = os.path.join(RESULTS_DIR, file.replace(\".arff\", \"\"), 'Evaluation')\n",
    "    if not os.path.exists(evaluation_path) :\n",
    "        os.makedirs(evaluation_path)\n",
    "        \n",
    "    restant_dataset[file.replace(\".arff\", \"\")]['results-dir'] = {'reduction-dir' : reduction_path,\n",
    "                                                                 'evaluation-dir': evaluation_path}\n",
    "    \n",
    "    \n",
    "    \n",
    "## Vérification du processus\n",
    "assert len(files) == len(list(restant_dataset.keys()))\n",
    "print(len(list(restant_dataset.keys())), \" ont été enregistré avec succès !\")"
   ]
  },
  {
   "cell_type": "code",
   "execution_count": 5,
   "id": "b8b1adeb",
   "metadata": {
    "scrolled": true
   },
   "outputs": [
    {
     "name": "stdout",
     "output_type": "stream",
     "text": [
      "--- Nombre de datasets FINAL :  27\n",
      "--- Datasets FINAUX :  ['INSECTS_incremental_reoccurring_balanced_norm', 'INSECTS_gradual_balanced_norm', 'INSECTS_incremental_imbalanced_norm', 'INSECTS_incremental_balanced_norm', 'INSECTS_abrupt_balanced_norm', 'INSECTS_incremental_reoccurring_imbalanced_norm', 'INSECTS_incremental_abrupt_imbalanced_norm', 'INSECTS_incremental_abrupt_balanced_norm', 'INSECTS_abrupt_imbalanced_norm', 'INSECTS_out_of_control_norm', 'INSECTS_gradual_imbalanced_norm', 'Poker_LSN', 'Ozone', 'Spam_Assassin', 'Key_Stroke', 'Gassenor', 'NOAA', 'Power_Supply', 'COVTYPE', 'CHESS', 'Luxembourg', 'ELEC', 'KDD_CUP_99', 'Outdoor', 'Sensor_Stream', 'AIRLINES', 'Rialto']\n",
      "Informations ont été enregistrées avec succès !\n"
     ]
    }
   ],
   "source": [
    "# Joindre les deux dictionnaires\n",
    "DATASETS |= restant_dataset\n",
    "\n",
    "\n",
    "# Affichage des résultats\n",
    "print(\"--- Nombre de datasets FINAL : \", len(list(DATASETS.keys())))\n",
    "print(\"--- Datasets FINAUX : \", list(DATASETS.keys()))\n",
    "\n",
    "\n",
    "# Enregistrement\n",
    "with open(os.path.join(DATASETS_DIR, 'datasets.json'), 'w') as meta_file:\n",
    "    json.dump(DATASETS, meta_file)\n",
    "\n",
    "\n",
    "## Vérification du processus\n",
    "files = [file for file in os.listdir(DATASETS_DIR)\n",
    "         if (os.path.isfile(os.path.join(DATASETS_DIR, file)) and (\".json\" in file) ) ]\n",
    "\n",
    "assert len(files) == 1\n",
    "with open(os.path.join(DATASETS_DIR, files[0]), 'r') as meta_file:\n",
    "    print(\"Informations ont été enregistrées avec succès !\")"
   ]
  },
  {
   "cell_type": "markdown",
   "id": "11df0791",
   "metadata": {},
   "source": [
    "Nous allons effectuer le pré-traitement des jeux de données du benchmark de classification."
   ]
  },
  {
   "cell_type": "markdown",
   "id": "e330c383",
   "metadata": {},
   "source": [
    "<h4><strong><font color='#353b38'>Implémentation des fonctions</font></strong></h4>"
   ]
  },
  {
   "cell_type": "markdown",
   "id": "89dd7a4f",
   "metadata": {},
   "source": [
    "<h5 id=\"clean_class\">clean_class</h5>"
   ]
  },
  {
   "cell_type": "code",
   "execution_count": 6,
   "id": "93a84995",
   "metadata": {},
   "outputs": [],
   "source": [
    "def clean_class(dataframe, class_column_name) :\n",
    "    print('---')\n",
    "    print('--- Nettoyage des classes')\n",
    "    \n",
    "    # Récupération et décodage\n",
    "    print('--- Récupération et décodage..')\n",
    "    classes = dataset_df[class_column_name].values.tolist()\n",
    "    classes = [classe.decode('utf-8') for classe in classes]\n",
    "    \n",
    "    \n",
    "    # Conversion en entier\n",
    "    try: \n",
    "        print('--- Conversion en entier..')\n",
    "        classes = [int(classe) for classe in classes]\n",
    "        dataframe[class_column_name] = classes\n",
    "        \n",
    "        return dataframe, classes, None\n",
    "    \n",
    "    except ValueError: # Needs to be encoded\n",
    "        print('--- Echec conversion => Encodage..')\n",
    "        \n",
    "        label_encoder = preprocessing.LabelEncoder()\n",
    "        label_encoder.fit(classes)\n",
    "        \n",
    "        classes_encoded = label_encoder.transform(classes).tolist()\n",
    "        dataframe[class_column_name] = classes_encoded\n",
    "        \n",
    "        dataframe[class_column_name].astype('int32')\n",
    "        \n",
    "        return dataframe, classes, classes_encoded"
   ]
  },
  {
   "cell_type": "markdown",
   "id": "b4374a67",
   "metadata": {},
   "source": [
    "<h5 id=\"classes_distribution\">classes_distribution</h5>"
   ]
  },
  {
   "cell_type": "code",
   "execution_count": 7,
   "id": "17bb3107",
   "metadata": {
    "scrolled": true
   },
   "outputs": [],
   "source": [
    "def classes_distribution(dataframe, class_column_name, classes, classes_encoded) :\n",
    "    # Lites des valeurs uniques des classes\n",
    "    if classes_encoded != None : # Vérification s'il y a eu un encodage\n",
    "        classes_process = list(set(classes_encoded))\n",
    "    else :\n",
    "        classes_process = list(set(classes))\n",
    "    \n",
    "    \n",
    "    # Calcul de distribution\n",
    "    classes_dist = dict()\n",
    "    for classe in classes_process :\n",
    "        number_rows = len(dataframe[dataframe[class_column_name] == classe])\n",
    "        print(classe, \" : \", number_rows)\n",
    "        classes_dist[str(classe)] = number_rows # Enregistrement\n",
    "        \n",
    "    \n",
    "    # Vérification\n",
    "    print(\"Total = \", sum(classes_dist.values()))\n",
    "    assert len(dataframe.index.tolist()) == sum(classes_dist.values())\n",
    "    print(\"Distribution correcte !\")\n",
    "    print(\"Nombre de classes trouvées = \", len(classes_dist.keys()))\n",
    "    \n",
    "\n",
    "    # Transformation en ratio\n",
    "    for _ in classes_dist.keys() :\n",
    "        classes_dist[_] = round(classes_dist[_]/Taille, 3)\n",
    "    \n",
    "    \n",
    "    if classes_encoded != None : # Vérification s'il y a eu un encodage\n",
    "        # Si oui => correspondance entre encodage et valeur\n",
    "        classes_encoded = [str(classe_encoded) for classe_encoded in classes_encoded]\n",
    "        classes_correspondance = dict(zip(classes_encoded, classes))\n",
    "    \n",
    "    else :\n",
    "        classes_correspondance = None\n",
    "    \n",
    "    \n",
    "    return classes_dist, classes_correspondance"
   ]
  },
  {
   "cell_type": "markdown",
   "id": "73fccf8f",
   "metadata": {},
   "source": [
    "<h5 id=\"distribution_plots\">distribution_plots</h5>"
   ]
  },
  {
   "cell_type": "code",
   "execution_count": 8,
   "id": "a89183f0",
   "metadata": {},
   "outputs": [],
   "source": [
    "def distribution_plots(values, ratio, dataset_name) :\n",
    "    # bar plots\n",
    "    bar_plot(classes_dist.keys(),\n",
    "             classes_dist.values(),\n",
    "             dataset_name)\n",
    "    \n",
    "    # Pie charts\n",
    "    pie_plot(classes_dist.keys(),\n",
    "             classes_dist.values(),\n",
    "             dataset_name)"
   ]
  },
  {
   "cell_type": "markdown",
   "id": "b7ab30bf",
   "metadata": {},
   "source": [
    "<h5 id=\"bar_plot\">bar_plot</h5>"
   ]
  },
  {
   "cell_type": "code",
   "execution_count": 9,
   "id": "23bb8633",
   "metadata": {},
   "outputs": [],
   "source": [
    "def bar_plot(values, ratio, dataset_name) :\n",
    "    # Init\n",
    "    fig, ax = plt.subplots(figsize=(6, 3))\n",
    "\n",
    "    # Plot\n",
    "    ax.bar(values, ratio)\n",
    "\n",
    "    # Légendes\n",
    "    ax.set_xlabel('Classes')\n",
    "    ax.set_ylabel('Ratio')\n",
    "    ax.set_title(dataset_name + \" - Bar chart\")\n",
    "    \n",
    "    plt.show()\n",
    "    \n",
    "    # Enregistrement\n",
    "    path = os.path.join(DATASETS[dataset_name]['exploratory-dir'],\n",
    "                        DATASETS[dataset_name]['name'])\n",
    "    fig.savefig(path + \"-BAR\" + \".jpg\", format='jpg')\n",
    "    fig.savefig(path + \"-BAR\" + \".pdf\", format='pdf')"
   ]
  },
  {
   "cell_type": "markdown",
   "id": "ff014a0c",
   "metadata": {},
   "source": [
    "<h5 id=\"pie_plot\">pie_plot</h5>"
   ]
  },
  {
   "cell_type": "code",
   "execution_count": 10,
   "id": "a6c3eb98",
   "metadata": {},
   "outputs": [],
   "source": [
    "def pie_plot(values, ratio, dataset_name) :\n",
    "    # Init\n",
    "    fig, ax = plt.subplots(figsize=(6, 3), subplot_kw=dict(aspect=\"equal\"))\n",
    "    \n",
    "    # Plot\n",
    "    explode = np.linspace(0, 0.5, num=len(values)).tolist()\n",
    "    wedges, texts = ax.pie(ratio, labels=ratio, normalize=True, explode=explode)\n",
    "\n",
    "    # Légendes\n",
    "    ax.legend(wedges, values,\n",
    "              title=\"Classes\",\n",
    "              loc=\"center left\",\n",
    "              bbox_to_anchor=(1, 0, 0.5, 1))\n",
    "    \n",
    "    ax.set_title(dataset_name + \" - Pie chart\")\n",
    "    \n",
    "    plt.show()\n",
    "    \n",
    "    \n",
    "    # Enregistrement\n",
    "    path = os.path.join(DATASETS[dataset_name]['exploratory-dir'],\n",
    "                        DATASETS[dataset_name]['name'])\n",
    "    fig.savefig(path + \"-PIE\" + \".jpg\", format='jpg')\n",
    "    fig.savefig(path + \"-PIE\" + \".pdf\", format='pdf')"
   ]
  },
  {
   "cell_type": "markdown",
   "id": "f3d86094",
   "metadata": {},
   "source": [
    "<h4><strong><font color='#353b38'>Traitement</font></strong></h4>"
   ]
  },
  {
   "cell_type": "markdown",
   "id": "dc0b4126",
   "metadata": {},
   "source": [
    "<h5 id=\"INSECTS_abrupt_balanced_norm\">INSECTS_abrupt_balanced_norm</h5>"
   ]
  },
  {
   "cell_type": "markdown",
   "id": "460e3e1a",
   "metadata": {},
   "source": [
    "<ul>\n",
    "    <li><strong>Contenu : </strong> jeu de données régissant des résultats de capteurs de mouvement de 6 types d'insecte captés dans un piège. </li>\n",
    "    <li><strong>Taille de l'échantillon : </strong> 52848 </li>\n",
    "    <li><strong>Nombre de variables : </strong> 33 </li>\n",
    "    <li><strong>Nombre de classes : </strong> 6 </li>\n",
    "    <li><strong>Dérivation de concept : </strong> brusque </li>\n",
    "</ul>"
   ]
  },
  {
   "cell_type": "code",
   "execution_count": 11,
   "id": "1f03db83",
   "metadata": {},
   "outputs": [
    {
     "data": {
      "text/plain": [
       "'/home/marrakchi/Documents/Stage/Datasets/brute/Classification DataStream Benchmark/INSECTS_abrupt_balanced_norm.arff'"
      ]
     },
     "execution_count": 11,
     "metadata": {},
     "output_type": "execute_result"
    }
   ],
   "source": [
    "dataset_file = os.path.join(DATASETS['INSECTS_abrupt_balanced_norm']['brute-dir'],\n",
    "                            DATASETS['INSECTS_abrupt_balanced_norm']['name'] + '.arff')\n",
    "dataset_file"
   ]
  },
  {
   "cell_type": "code",
   "execution_count": 12,
   "id": "56d7b8f1",
   "metadata": {
    "scrolled": true
   },
   "outputs": [
    {
     "data": {
      "text/plain": [
       "(array([(0.507066, 0.153333, 0.226092, 0.302447, 0.007239, 0.36912 , 0.332436, 0.017807, 0.032819, 0.033009, 0.009196, 0.095946, 0.02497 , 0.020698, 0.026131, 0.015918, 0.005096, 0.012688, 0.10294 , 0.056804, 0.021908, 0.01613 , 0.009059, 0.021032, 0.006855, 0.017358, 0.01343 , 0.009138, 0.006768, 0.007291, 0.009224, 0.036218, 0.162955, b'ae-albopictus-female'),\n",
       "        (0.281661, 0.355953, 0.253196, 0.340335, 0.415631, 0.503923, 0.392029, 0.003648, 0.068381, 0.011155, 0.025298, 0.003649, 0.151324, 0.029064, 0.003732, 0.063712, 0.025268, 0.001858, 0.002936, 0.013652, 0.182807, 0.115666, 0.027045, 0.004569, 0.005631, 0.014048, 0.002431, 0.007076, 0.037682, 0.003089, 0.004207, 0.004144, 0.005044, b'ae-albopictus-female'),\n",
       "        (0.19375 , 0.257782, 0.183339, 0.247017, 0.302133, 0.363522, 0.269729, 0.293543, 0.293002, 0.029522, 0.397337, 0.100067, 0.262793, 0.083273, 0.01936 , 0.251711, 0.472875, 0.218066, 0.086856, 0.043234, 0.036585, 0.080211, 0.075625, 0.034404, 0.023837, 0.013922, 0.081406, 0.413674, 0.295615, 0.120392, 0.036566, 0.032652, 0.025776, b'cx-quinq-female'),\n",
       "        ...,\n",
       "        (0.417234, 0.528923, 0.37494 , 0.49997 , 0.00163 , 0.612408, 0.594603, 0.008641, 0.006584, 0.003708, 0.129324, 0.006619, 0.178775, 0.005628, 0.003584, 0.026486, 0.138027, 0.018991, 0.003924, 0.010032, 0.01984 , 0.006293, 0.004368, 0.003161, 0.004282, 0.004831, 0.026317, 0.194038, 0.200206, 0.128182, 0.032787, 0.012716, 0.010405, b'ae-albopictus-male'),\n",
       "        (0.379485, 0.482561, 0.34123 , 0.001819, 0.442228, 0.022463, 0.446172, 0.018756, 0.012964, 0.047095, 0.043529, 0.124605, 0.054752, 0.007117, 0.048998, 0.217358, 0.037931, 0.006497, 0.034513, 0.014514, 0.021502, 0.006933, 0.005556, 0.014627, 0.073563, 0.182334, 0.221658, 0.184219, 0.053162, 0.018325, 0.011213, 0.010824, 0.020919, b'ae-albopictus-male'),\n",
       "        (0.734307, 0.226054, 0.324317, 0.429357, 0.005914, 0.022616, 0.417818, 0.012414, 0.009319, 0.014024, 0.00614 , 0.029444, 0.006829, 0.004975, 0.055421, 0.02505 , 0.003778, 0.017863, 0.02413 , 0.011007, 0.004343, 0.005214, 0.004125, 0.010632, 0.100213, 0.055013, 0.024975, 0.01276 , 0.004568, 0.007757, 0.007115, 0.014541, 0.008319, b'ae-albopictus-male')],\n",
       "       dtype=[('Att1', '<f8'), ('Att2', '<f8'), ('Att3', '<f8'), ('Att4', '<f8'), ('Att5', '<f8'), ('Att6', '<f8'), ('Att7', '<f8'), ('Att8', '<f8'), ('Att9', '<f8'), ('Att10', '<f8'), ('Att11', '<f8'), ('Att12', '<f8'), ('Att13', '<f8'), ('Att14', '<f8'), ('Att15', '<f8'), ('Att16', '<f8'), ('Att17', '<f8'), ('Att18', '<f8'), ('Att19', '<f8'), ('Att20', '<f8'), ('Att21', '<f8'), ('Att22', '<f8'), ('Att23', '<f8'), ('Att24', '<f8'), ('Att25', '<f8'), ('Att26', '<f8'), ('Att27', '<f8'), ('Att28', '<f8'), ('Att29', '<f8'), ('Att30', '<f8'), ('Att31', '<f8'), ('Att32', '<f8'), ('Att33', '<f8'), ('class', 'S20')]),\n",
       " Dataset: Insects-incremental-abrupt-bal-weka.filters.unsupervised.attribute.Normalize-S1.0-T0.0\n",
       " \tAtt1's type is numeric\n",
       " \tAtt2's type is numeric\n",
       " \tAtt3's type is numeric\n",
       " \tAtt4's type is numeric\n",
       " \tAtt5's type is numeric\n",
       " \tAtt6's type is numeric\n",
       " \tAtt7's type is numeric\n",
       " \tAtt8's type is numeric\n",
       " \tAtt9's type is numeric\n",
       " \tAtt10's type is numeric\n",
       " \tAtt11's type is numeric\n",
       " \tAtt12's type is numeric\n",
       " \tAtt13's type is numeric\n",
       " \tAtt14's type is numeric\n",
       " \tAtt15's type is numeric\n",
       " \tAtt16's type is numeric\n",
       " \tAtt17's type is numeric\n",
       " \tAtt18's type is numeric\n",
       " \tAtt19's type is numeric\n",
       " \tAtt20's type is numeric\n",
       " \tAtt21's type is numeric\n",
       " \tAtt22's type is numeric\n",
       " \tAtt23's type is numeric\n",
       " \tAtt24's type is numeric\n",
       " \tAtt25's type is numeric\n",
       " \tAtt26's type is numeric\n",
       " \tAtt27's type is numeric\n",
       " \tAtt28's type is numeric\n",
       " \tAtt29's type is numeric\n",
       " \tAtt30's type is numeric\n",
       " \tAtt31's type is numeric\n",
       " \tAtt32's type is numeric\n",
       " \tAtt33's type is numeric\n",
       " \tclass's type is nominal, range is ('ae-aegypti-female', 'ae-aegypti-male', 'ae-albopictus-female', 'ae-albopictus-male', 'cx-quinq-female', 'cx-quinq-male'))"
      ]
     },
     "execution_count": 12,
     "metadata": {},
     "output_type": "execute_result"
    }
   ],
   "source": [
    "dataset = arff.loadarff(dataset_file)\n",
    "dataset"
   ]
  },
  {
   "cell_type": "code",
   "execution_count": 13,
   "id": "97e5664c",
   "metadata": {},
   "outputs": [
    {
     "data": {
      "text/html": [
       "<div>\n",
       "<style scoped>\n",
       "    .dataframe tbody tr th:only-of-type {\n",
       "        vertical-align: middle;\n",
       "    }\n",
       "\n",
       "    .dataframe tbody tr th {\n",
       "        vertical-align: top;\n",
       "    }\n",
       "\n",
       "    .dataframe thead th {\n",
       "        text-align: right;\n",
       "    }\n",
       "</style>\n",
       "<table border=\"1\" class=\"dataframe\">\n",
       "  <thead>\n",
       "    <tr style=\"text-align: right;\">\n",
       "      <th></th>\n",
       "      <th>Att1</th>\n",
       "      <th>Att2</th>\n",
       "      <th>Att3</th>\n",
       "      <th>Att4</th>\n",
       "      <th>Att5</th>\n",
       "      <th>Att6</th>\n",
       "      <th>Att7</th>\n",
       "      <th>Att8</th>\n",
       "      <th>Att9</th>\n",
       "      <th>Att10</th>\n",
       "      <th>...</th>\n",
       "      <th>Att25</th>\n",
       "      <th>Att26</th>\n",
       "      <th>Att27</th>\n",
       "      <th>Att28</th>\n",
       "      <th>Att29</th>\n",
       "      <th>Att30</th>\n",
       "      <th>Att31</th>\n",
       "      <th>Att32</th>\n",
       "      <th>Att33</th>\n",
       "      <th>class</th>\n",
       "    </tr>\n",
       "  </thead>\n",
       "  <tbody>\n",
       "    <tr>\n",
       "      <th>0</th>\n",
       "      <td>0.507066</td>\n",
       "      <td>0.153333</td>\n",
       "      <td>0.226092</td>\n",
       "      <td>0.302447</td>\n",
       "      <td>0.007239</td>\n",
       "      <td>0.369120</td>\n",
       "      <td>0.332436</td>\n",
       "      <td>0.017807</td>\n",
       "      <td>0.032819</td>\n",
       "      <td>0.033009</td>\n",
       "      <td>...</td>\n",
       "      <td>0.006855</td>\n",
       "      <td>0.017358</td>\n",
       "      <td>0.013430</td>\n",
       "      <td>0.009138</td>\n",
       "      <td>0.006768</td>\n",
       "      <td>0.007291</td>\n",
       "      <td>0.009224</td>\n",
       "      <td>0.036218</td>\n",
       "      <td>0.162955</td>\n",
       "      <td>b'ae-albopictus-female'</td>\n",
       "    </tr>\n",
       "    <tr>\n",
       "      <th>1</th>\n",
       "      <td>0.281661</td>\n",
       "      <td>0.355953</td>\n",
       "      <td>0.253196</td>\n",
       "      <td>0.340335</td>\n",
       "      <td>0.415631</td>\n",
       "      <td>0.503923</td>\n",
       "      <td>0.392029</td>\n",
       "      <td>0.003648</td>\n",
       "      <td>0.068381</td>\n",
       "      <td>0.011155</td>\n",
       "      <td>...</td>\n",
       "      <td>0.005631</td>\n",
       "      <td>0.014048</td>\n",
       "      <td>0.002431</td>\n",
       "      <td>0.007076</td>\n",
       "      <td>0.037682</td>\n",
       "      <td>0.003089</td>\n",
       "      <td>0.004207</td>\n",
       "      <td>0.004144</td>\n",
       "      <td>0.005044</td>\n",
       "      <td>b'ae-albopictus-female'</td>\n",
       "    </tr>\n",
       "    <tr>\n",
       "      <th>2</th>\n",
       "      <td>0.193750</td>\n",
       "      <td>0.257782</td>\n",
       "      <td>0.183339</td>\n",
       "      <td>0.247017</td>\n",
       "      <td>0.302133</td>\n",
       "      <td>0.363522</td>\n",
       "      <td>0.269729</td>\n",
       "      <td>0.293543</td>\n",
       "      <td>0.293002</td>\n",
       "      <td>0.029522</td>\n",
       "      <td>...</td>\n",
       "      <td>0.023837</td>\n",
       "      <td>0.013922</td>\n",
       "      <td>0.081406</td>\n",
       "      <td>0.413674</td>\n",
       "      <td>0.295615</td>\n",
       "      <td>0.120392</td>\n",
       "      <td>0.036566</td>\n",
       "      <td>0.032652</td>\n",
       "      <td>0.025776</td>\n",
       "      <td>b'cx-quinq-female'</td>\n",
       "    </tr>\n",
       "    <tr>\n",
       "      <th>3</th>\n",
       "      <td>0.514782</td>\n",
       "      <td>0.154867</td>\n",
       "      <td>0.016903</td>\n",
       "      <td>0.226084</td>\n",
       "      <td>0.297642</td>\n",
       "      <td>0.239111</td>\n",
       "      <td>0.248268</td>\n",
       "      <td>0.066745</td>\n",
       "      <td>0.115020</td>\n",
       "      <td>0.083407</td>\n",
       "      <td>...</td>\n",
       "      <td>0.020949</td>\n",
       "      <td>0.023019</td>\n",
       "      <td>0.021147</td>\n",
       "      <td>0.020813</td>\n",
       "      <td>0.019048</td>\n",
       "      <td>0.011606</td>\n",
       "      <td>0.013379</td>\n",
       "      <td>0.044839</td>\n",
       "      <td>0.123552</td>\n",
       "      <td>b'ae-albopictus-female'</td>\n",
       "    </tr>\n",
       "    <tr>\n",
       "      <th>4</th>\n",
       "      <td>0.774337</td>\n",
       "      <td>0.012549</td>\n",
       "      <td>0.105751</td>\n",
       "      <td>0.033302</td>\n",
       "      <td>0.017170</td>\n",
       "      <td>0.049754</td>\n",
       "      <td>0.173500</td>\n",
       "      <td>0.055220</td>\n",
       "      <td>0.044184</td>\n",
       "      <td>0.034923</td>\n",
       "      <td>...</td>\n",
       "      <td>0.034876</td>\n",
       "      <td>0.060708</td>\n",
       "      <td>0.048119</td>\n",
       "      <td>0.027417</td>\n",
       "      <td>0.015022</td>\n",
       "      <td>0.010218</td>\n",
       "      <td>0.008121</td>\n",
       "      <td>0.012539</td>\n",
       "      <td>0.018058</td>\n",
       "      <td>b'ae-aegypti-male'</td>\n",
       "    </tr>\n",
       "    <tr>\n",
       "      <th>...</th>\n",
       "      <td>...</td>\n",
       "      <td>...</td>\n",
       "      <td>...</td>\n",
       "      <td>...</td>\n",
       "      <td>...</td>\n",
       "      <td>...</td>\n",
       "      <td>...</td>\n",
       "      <td>...</td>\n",
       "      <td>...</td>\n",
       "      <td>...</td>\n",
       "      <td>...</td>\n",
       "      <td>...</td>\n",
       "      <td>...</td>\n",
       "      <td>...</td>\n",
       "      <td>...</td>\n",
       "      <td>...</td>\n",
       "      <td>...</td>\n",
       "      <td>...</td>\n",
       "      <td>...</td>\n",
       "      <td>...</td>\n",
       "      <td>...</td>\n",
       "    </tr>\n",
       "    <tr>\n",
       "      <th>52843</th>\n",
       "      <td>0.376205</td>\n",
       "      <td>0.481608</td>\n",
       "      <td>0.341587</td>\n",
       "      <td>0.005883</td>\n",
       "      <td>0.555439</td>\n",
       "      <td>0.449868</td>\n",
       "      <td>0.535081</td>\n",
       "      <td>0.007482</td>\n",
       "      <td>0.004769</td>\n",
       "      <td>0.018222</td>\n",
       "      <td>...</td>\n",
       "      <td>0.027851</td>\n",
       "      <td>0.094857</td>\n",
       "      <td>0.095290</td>\n",
       "      <td>0.044267</td>\n",
       "      <td>0.008017</td>\n",
       "      <td>0.005021</td>\n",
       "      <td>0.006875</td>\n",
       "      <td>0.005422</td>\n",
       "      <td>0.008626</td>\n",
       "      <td>b'ae-albopictus-male'</td>\n",
       "    </tr>\n",
       "    <tr>\n",
       "      <th>52844</th>\n",
       "      <td>0.907227</td>\n",
       "      <td>0.283415</td>\n",
       "      <td>0.401981</td>\n",
       "      <td>0.538330</td>\n",
       "      <td>0.006673</td>\n",
       "      <td>0.665257</td>\n",
       "      <td>0.644756</td>\n",
       "      <td>0.018815</td>\n",
       "      <td>0.014563</td>\n",
       "      <td>0.007784</td>\n",
       "      <td>...</td>\n",
       "      <td>0.004589</td>\n",
       "      <td>0.004021</td>\n",
       "      <td>0.004964</td>\n",
       "      <td>0.012643</td>\n",
       "      <td>0.050035</td>\n",
       "      <td>0.203125</td>\n",
       "      <td>0.130514</td>\n",
       "      <td>0.113380</td>\n",
       "      <td>0.038648</td>\n",
       "      <td>b'ae-albopictus-male'</td>\n",
       "    </tr>\n",
       "    <tr>\n",
       "      <th>52845</th>\n",
       "      <td>0.417234</td>\n",
       "      <td>0.528923</td>\n",
       "      <td>0.374940</td>\n",
       "      <td>0.499970</td>\n",
       "      <td>0.001630</td>\n",
       "      <td>0.612408</td>\n",
       "      <td>0.594603</td>\n",
       "      <td>0.008641</td>\n",
       "      <td>0.006584</td>\n",
       "      <td>0.003708</td>\n",
       "      <td>...</td>\n",
       "      <td>0.004282</td>\n",
       "      <td>0.004831</td>\n",
       "      <td>0.026317</td>\n",
       "      <td>0.194038</td>\n",
       "      <td>0.200206</td>\n",
       "      <td>0.128182</td>\n",
       "      <td>0.032787</td>\n",
       "      <td>0.012716</td>\n",
       "      <td>0.010405</td>\n",
       "      <td>b'ae-albopictus-male'</td>\n",
       "    </tr>\n",
       "    <tr>\n",
       "      <th>52846</th>\n",
       "      <td>0.379485</td>\n",
       "      <td>0.482561</td>\n",
       "      <td>0.341230</td>\n",
       "      <td>0.001819</td>\n",
       "      <td>0.442228</td>\n",
       "      <td>0.022463</td>\n",
       "      <td>0.446172</td>\n",
       "      <td>0.018756</td>\n",
       "      <td>0.012964</td>\n",
       "      <td>0.047095</td>\n",
       "      <td>...</td>\n",
       "      <td>0.073563</td>\n",
       "      <td>0.182334</td>\n",
       "      <td>0.221658</td>\n",
       "      <td>0.184219</td>\n",
       "      <td>0.053162</td>\n",
       "      <td>0.018325</td>\n",
       "      <td>0.011213</td>\n",
       "      <td>0.010824</td>\n",
       "      <td>0.020919</td>\n",
       "      <td>b'ae-albopictus-male'</td>\n",
       "    </tr>\n",
       "    <tr>\n",
       "      <th>52847</th>\n",
       "      <td>0.734307</td>\n",
       "      <td>0.226054</td>\n",
       "      <td>0.324317</td>\n",
       "      <td>0.429357</td>\n",
       "      <td>0.005914</td>\n",
       "      <td>0.022616</td>\n",
       "      <td>0.417818</td>\n",
       "      <td>0.012414</td>\n",
       "      <td>0.009319</td>\n",
       "      <td>0.014024</td>\n",
       "      <td>...</td>\n",
       "      <td>0.100213</td>\n",
       "      <td>0.055013</td>\n",
       "      <td>0.024975</td>\n",
       "      <td>0.012760</td>\n",
       "      <td>0.004568</td>\n",
       "      <td>0.007757</td>\n",
       "      <td>0.007115</td>\n",
       "      <td>0.014541</td>\n",
       "      <td>0.008319</td>\n",
       "      <td>b'ae-albopictus-male'</td>\n",
       "    </tr>\n",
       "  </tbody>\n",
       "</table>\n",
       "<p>52848 rows × 34 columns</p>\n",
       "</div>"
      ],
      "text/plain": [
       "           Att1      Att2      Att3      Att4      Att5      Att6      Att7  \\\n",
       "0      0.507066  0.153333  0.226092  0.302447  0.007239  0.369120  0.332436   \n",
       "1      0.281661  0.355953  0.253196  0.340335  0.415631  0.503923  0.392029   \n",
       "2      0.193750  0.257782  0.183339  0.247017  0.302133  0.363522  0.269729   \n",
       "3      0.514782  0.154867  0.016903  0.226084  0.297642  0.239111  0.248268   \n",
       "4      0.774337  0.012549  0.105751  0.033302  0.017170  0.049754  0.173500   \n",
       "...         ...       ...       ...       ...       ...       ...       ...   \n",
       "52843  0.376205  0.481608  0.341587  0.005883  0.555439  0.449868  0.535081   \n",
       "52844  0.907227  0.283415  0.401981  0.538330  0.006673  0.665257  0.644756   \n",
       "52845  0.417234  0.528923  0.374940  0.499970  0.001630  0.612408  0.594603   \n",
       "52846  0.379485  0.482561  0.341230  0.001819  0.442228  0.022463  0.446172   \n",
       "52847  0.734307  0.226054  0.324317  0.429357  0.005914  0.022616  0.417818   \n",
       "\n",
       "           Att8      Att9     Att10  ...     Att25     Att26     Att27  \\\n",
       "0      0.017807  0.032819  0.033009  ...  0.006855  0.017358  0.013430   \n",
       "1      0.003648  0.068381  0.011155  ...  0.005631  0.014048  0.002431   \n",
       "2      0.293543  0.293002  0.029522  ...  0.023837  0.013922  0.081406   \n",
       "3      0.066745  0.115020  0.083407  ...  0.020949  0.023019  0.021147   \n",
       "4      0.055220  0.044184  0.034923  ...  0.034876  0.060708  0.048119   \n",
       "...         ...       ...       ...  ...       ...       ...       ...   \n",
       "52843  0.007482  0.004769  0.018222  ...  0.027851  0.094857  0.095290   \n",
       "52844  0.018815  0.014563  0.007784  ...  0.004589  0.004021  0.004964   \n",
       "52845  0.008641  0.006584  0.003708  ...  0.004282  0.004831  0.026317   \n",
       "52846  0.018756  0.012964  0.047095  ...  0.073563  0.182334  0.221658   \n",
       "52847  0.012414  0.009319  0.014024  ...  0.100213  0.055013  0.024975   \n",
       "\n",
       "          Att28     Att29     Att30     Att31     Att32     Att33  \\\n",
       "0      0.009138  0.006768  0.007291  0.009224  0.036218  0.162955   \n",
       "1      0.007076  0.037682  0.003089  0.004207  0.004144  0.005044   \n",
       "2      0.413674  0.295615  0.120392  0.036566  0.032652  0.025776   \n",
       "3      0.020813  0.019048  0.011606  0.013379  0.044839  0.123552   \n",
       "4      0.027417  0.015022  0.010218  0.008121  0.012539  0.018058   \n",
       "...         ...       ...       ...       ...       ...       ...   \n",
       "52843  0.044267  0.008017  0.005021  0.006875  0.005422  0.008626   \n",
       "52844  0.012643  0.050035  0.203125  0.130514  0.113380  0.038648   \n",
       "52845  0.194038  0.200206  0.128182  0.032787  0.012716  0.010405   \n",
       "52846  0.184219  0.053162  0.018325  0.011213  0.010824  0.020919   \n",
       "52847  0.012760  0.004568  0.007757  0.007115  0.014541  0.008319   \n",
       "\n",
       "                         class  \n",
       "0      b'ae-albopictus-female'  \n",
       "1      b'ae-albopictus-female'  \n",
       "2           b'cx-quinq-female'  \n",
       "3      b'ae-albopictus-female'  \n",
       "4           b'ae-aegypti-male'  \n",
       "...                        ...  \n",
       "52843    b'ae-albopictus-male'  \n",
       "52844    b'ae-albopictus-male'  \n",
       "52845    b'ae-albopictus-male'  \n",
       "52846    b'ae-albopictus-male'  \n",
       "52847    b'ae-albopictus-male'  \n",
       "\n",
       "[52848 rows x 34 columns]"
      ]
     },
     "execution_count": 13,
     "metadata": {},
     "output_type": "execute_result"
    }
   ],
   "source": [
    "dataset_df = pd.DataFrame(dataset[0])\n",
    "dataset_df"
   ]
  },
  {
   "cell_type": "markdown",
   "id": "fb07fc6e",
   "metadata": {},
   "source": [
    "<b>Nettoyage</b>"
   ]
  },
  {
   "cell_type": "markdown",
   "id": "18b01b05",
   "metadata": {},
   "source": [
    "*classes*"
   ]
  },
  {
   "cell_type": "code",
   "execution_count": 14,
   "id": "c39244c0",
   "metadata": {
    "scrolled": true
   },
   "outputs": [
    {
     "name": "stdout",
     "output_type": "stream",
     "text": [
      "---\n",
      "--- Nettoyage des classes\n",
      "--- Récupération et décodage..\n",
      "--- Conversion en entier..\n",
      "--- Echec conversion => Encodage..\n"
     ]
    },
    {
     "data": {
      "text/html": [
       "<div>\n",
       "<style scoped>\n",
       "    .dataframe tbody tr th:only-of-type {\n",
       "        vertical-align: middle;\n",
       "    }\n",
       "\n",
       "    .dataframe tbody tr th {\n",
       "        vertical-align: top;\n",
       "    }\n",
       "\n",
       "    .dataframe thead th {\n",
       "        text-align: right;\n",
       "    }\n",
       "</style>\n",
       "<table border=\"1\" class=\"dataframe\">\n",
       "  <thead>\n",
       "    <tr style=\"text-align: right;\">\n",
       "      <th></th>\n",
       "      <th>Att1</th>\n",
       "      <th>Att2</th>\n",
       "      <th>Att3</th>\n",
       "      <th>Att4</th>\n",
       "      <th>Att5</th>\n",
       "      <th>Att6</th>\n",
       "      <th>Att7</th>\n",
       "      <th>Att8</th>\n",
       "      <th>Att9</th>\n",
       "      <th>Att10</th>\n",
       "      <th>...</th>\n",
       "      <th>Att25</th>\n",
       "      <th>Att26</th>\n",
       "      <th>Att27</th>\n",
       "      <th>Att28</th>\n",
       "      <th>Att29</th>\n",
       "      <th>Att30</th>\n",
       "      <th>Att31</th>\n",
       "      <th>Att32</th>\n",
       "      <th>Att33</th>\n",
       "      <th>class</th>\n",
       "    </tr>\n",
       "  </thead>\n",
       "  <tbody>\n",
       "    <tr>\n",
       "      <th>0</th>\n",
       "      <td>0.507066</td>\n",
       "      <td>0.153333</td>\n",
       "      <td>0.226092</td>\n",
       "      <td>0.302447</td>\n",
       "      <td>0.007239</td>\n",
       "      <td>0.369120</td>\n",
       "      <td>0.332436</td>\n",
       "      <td>0.017807</td>\n",
       "      <td>0.032819</td>\n",
       "      <td>0.033009</td>\n",
       "      <td>...</td>\n",
       "      <td>0.006855</td>\n",
       "      <td>0.017358</td>\n",
       "      <td>0.013430</td>\n",
       "      <td>0.009138</td>\n",
       "      <td>0.006768</td>\n",
       "      <td>0.007291</td>\n",
       "      <td>0.009224</td>\n",
       "      <td>0.036218</td>\n",
       "      <td>0.162955</td>\n",
       "      <td>2</td>\n",
       "    </tr>\n",
       "    <tr>\n",
       "      <th>1</th>\n",
       "      <td>0.281661</td>\n",
       "      <td>0.355953</td>\n",
       "      <td>0.253196</td>\n",
       "      <td>0.340335</td>\n",
       "      <td>0.415631</td>\n",
       "      <td>0.503923</td>\n",
       "      <td>0.392029</td>\n",
       "      <td>0.003648</td>\n",
       "      <td>0.068381</td>\n",
       "      <td>0.011155</td>\n",
       "      <td>...</td>\n",
       "      <td>0.005631</td>\n",
       "      <td>0.014048</td>\n",
       "      <td>0.002431</td>\n",
       "      <td>0.007076</td>\n",
       "      <td>0.037682</td>\n",
       "      <td>0.003089</td>\n",
       "      <td>0.004207</td>\n",
       "      <td>0.004144</td>\n",
       "      <td>0.005044</td>\n",
       "      <td>2</td>\n",
       "    </tr>\n",
       "    <tr>\n",
       "      <th>2</th>\n",
       "      <td>0.193750</td>\n",
       "      <td>0.257782</td>\n",
       "      <td>0.183339</td>\n",
       "      <td>0.247017</td>\n",
       "      <td>0.302133</td>\n",
       "      <td>0.363522</td>\n",
       "      <td>0.269729</td>\n",
       "      <td>0.293543</td>\n",
       "      <td>0.293002</td>\n",
       "      <td>0.029522</td>\n",
       "      <td>...</td>\n",
       "      <td>0.023837</td>\n",
       "      <td>0.013922</td>\n",
       "      <td>0.081406</td>\n",
       "      <td>0.413674</td>\n",
       "      <td>0.295615</td>\n",
       "      <td>0.120392</td>\n",
       "      <td>0.036566</td>\n",
       "      <td>0.032652</td>\n",
       "      <td>0.025776</td>\n",
       "      <td>4</td>\n",
       "    </tr>\n",
       "    <tr>\n",
       "      <th>3</th>\n",
       "      <td>0.514782</td>\n",
       "      <td>0.154867</td>\n",
       "      <td>0.016903</td>\n",
       "      <td>0.226084</td>\n",
       "      <td>0.297642</td>\n",
       "      <td>0.239111</td>\n",
       "      <td>0.248268</td>\n",
       "      <td>0.066745</td>\n",
       "      <td>0.115020</td>\n",
       "      <td>0.083407</td>\n",
       "      <td>...</td>\n",
       "      <td>0.020949</td>\n",
       "      <td>0.023019</td>\n",
       "      <td>0.021147</td>\n",
       "      <td>0.020813</td>\n",
       "      <td>0.019048</td>\n",
       "      <td>0.011606</td>\n",
       "      <td>0.013379</td>\n",
       "      <td>0.044839</td>\n",
       "      <td>0.123552</td>\n",
       "      <td>2</td>\n",
       "    </tr>\n",
       "    <tr>\n",
       "      <th>4</th>\n",
       "      <td>0.774337</td>\n",
       "      <td>0.012549</td>\n",
       "      <td>0.105751</td>\n",
       "      <td>0.033302</td>\n",
       "      <td>0.017170</td>\n",
       "      <td>0.049754</td>\n",
       "      <td>0.173500</td>\n",
       "      <td>0.055220</td>\n",
       "      <td>0.044184</td>\n",
       "      <td>0.034923</td>\n",
       "      <td>...</td>\n",
       "      <td>0.034876</td>\n",
       "      <td>0.060708</td>\n",
       "      <td>0.048119</td>\n",
       "      <td>0.027417</td>\n",
       "      <td>0.015022</td>\n",
       "      <td>0.010218</td>\n",
       "      <td>0.008121</td>\n",
       "      <td>0.012539</td>\n",
       "      <td>0.018058</td>\n",
       "      <td>1</td>\n",
       "    </tr>\n",
       "    <tr>\n",
       "      <th>...</th>\n",
       "      <td>...</td>\n",
       "      <td>...</td>\n",
       "      <td>...</td>\n",
       "      <td>...</td>\n",
       "      <td>...</td>\n",
       "      <td>...</td>\n",
       "      <td>...</td>\n",
       "      <td>...</td>\n",
       "      <td>...</td>\n",
       "      <td>...</td>\n",
       "      <td>...</td>\n",
       "      <td>...</td>\n",
       "      <td>...</td>\n",
       "      <td>...</td>\n",
       "      <td>...</td>\n",
       "      <td>...</td>\n",
       "      <td>...</td>\n",
       "      <td>...</td>\n",
       "      <td>...</td>\n",
       "      <td>...</td>\n",
       "      <td>...</td>\n",
       "    </tr>\n",
       "    <tr>\n",
       "      <th>52843</th>\n",
       "      <td>0.376205</td>\n",
       "      <td>0.481608</td>\n",
       "      <td>0.341587</td>\n",
       "      <td>0.005883</td>\n",
       "      <td>0.555439</td>\n",
       "      <td>0.449868</td>\n",
       "      <td>0.535081</td>\n",
       "      <td>0.007482</td>\n",
       "      <td>0.004769</td>\n",
       "      <td>0.018222</td>\n",
       "      <td>...</td>\n",
       "      <td>0.027851</td>\n",
       "      <td>0.094857</td>\n",
       "      <td>0.095290</td>\n",
       "      <td>0.044267</td>\n",
       "      <td>0.008017</td>\n",
       "      <td>0.005021</td>\n",
       "      <td>0.006875</td>\n",
       "      <td>0.005422</td>\n",
       "      <td>0.008626</td>\n",
       "      <td>3</td>\n",
       "    </tr>\n",
       "    <tr>\n",
       "      <th>52844</th>\n",
       "      <td>0.907227</td>\n",
       "      <td>0.283415</td>\n",
       "      <td>0.401981</td>\n",
       "      <td>0.538330</td>\n",
       "      <td>0.006673</td>\n",
       "      <td>0.665257</td>\n",
       "      <td>0.644756</td>\n",
       "      <td>0.018815</td>\n",
       "      <td>0.014563</td>\n",
       "      <td>0.007784</td>\n",
       "      <td>...</td>\n",
       "      <td>0.004589</td>\n",
       "      <td>0.004021</td>\n",
       "      <td>0.004964</td>\n",
       "      <td>0.012643</td>\n",
       "      <td>0.050035</td>\n",
       "      <td>0.203125</td>\n",
       "      <td>0.130514</td>\n",
       "      <td>0.113380</td>\n",
       "      <td>0.038648</td>\n",
       "      <td>3</td>\n",
       "    </tr>\n",
       "    <tr>\n",
       "      <th>52845</th>\n",
       "      <td>0.417234</td>\n",
       "      <td>0.528923</td>\n",
       "      <td>0.374940</td>\n",
       "      <td>0.499970</td>\n",
       "      <td>0.001630</td>\n",
       "      <td>0.612408</td>\n",
       "      <td>0.594603</td>\n",
       "      <td>0.008641</td>\n",
       "      <td>0.006584</td>\n",
       "      <td>0.003708</td>\n",
       "      <td>...</td>\n",
       "      <td>0.004282</td>\n",
       "      <td>0.004831</td>\n",
       "      <td>0.026317</td>\n",
       "      <td>0.194038</td>\n",
       "      <td>0.200206</td>\n",
       "      <td>0.128182</td>\n",
       "      <td>0.032787</td>\n",
       "      <td>0.012716</td>\n",
       "      <td>0.010405</td>\n",
       "      <td>3</td>\n",
       "    </tr>\n",
       "    <tr>\n",
       "      <th>52846</th>\n",
       "      <td>0.379485</td>\n",
       "      <td>0.482561</td>\n",
       "      <td>0.341230</td>\n",
       "      <td>0.001819</td>\n",
       "      <td>0.442228</td>\n",
       "      <td>0.022463</td>\n",
       "      <td>0.446172</td>\n",
       "      <td>0.018756</td>\n",
       "      <td>0.012964</td>\n",
       "      <td>0.047095</td>\n",
       "      <td>...</td>\n",
       "      <td>0.073563</td>\n",
       "      <td>0.182334</td>\n",
       "      <td>0.221658</td>\n",
       "      <td>0.184219</td>\n",
       "      <td>0.053162</td>\n",
       "      <td>0.018325</td>\n",
       "      <td>0.011213</td>\n",
       "      <td>0.010824</td>\n",
       "      <td>0.020919</td>\n",
       "      <td>3</td>\n",
       "    </tr>\n",
       "    <tr>\n",
       "      <th>52847</th>\n",
       "      <td>0.734307</td>\n",
       "      <td>0.226054</td>\n",
       "      <td>0.324317</td>\n",
       "      <td>0.429357</td>\n",
       "      <td>0.005914</td>\n",
       "      <td>0.022616</td>\n",
       "      <td>0.417818</td>\n",
       "      <td>0.012414</td>\n",
       "      <td>0.009319</td>\n",
       "      <td>0.014024</td>\n",
       "      <td>...</td>\n",
       "      <td>0.100213</td>\n",
       "      <td>0.055013</td>\n",
       "      <td>0.024975</td>\n",
       "      <td>0.012760</td>\n",
       "      <td>0.004568</td>\n",
       "      <td>0.007757</td>\n",
       "      <td>0.007115</td>\n",
       "      <td>0.014541</td>\n",
       "      <td>0.008319</td>\n",
       "      <td>3</td>\n",
       "    </tr>\n",
       "  </tbody>\n",
       "</table>\n",
       "<p>52848 rows × 34 columns</p>\n",
       "</div>"
      ],
      "text/plain": [
       "           Att1      Att2      Att3      Att4      Att5      Att6      Att7  \\\n",
       "0      0.507066  0.153333  0.226092  0.302447  0.007239  0.369120  0.332436   \n",
       "1      0.281661  0.355953  0.253196  0.340335  0.415631  0.503923  0.392029   \n",
       "2      0.193750  0.257782  0.183339  0.247017  0.302133  0.363522  0.269729   \n",
       "3      0.514782  0.154867  0.016903  0.226084  0.297642  0.239111  0.248268   \n",
       "4      0.774337  0.012549  0.105751  0.033302  0.017170  0.049754  0.173500   \n",
       "...         ...       ...       ...       ...       ...       ...       ...   \n",
       "52843  0.376205  0.481608  0.341587  0.005883  0.555439  0.449868  0.535081   \n",
       "52844  0.907227  0.283415  0.401981  0.538330  0.006673  0.665257  0.644756   \n",
       "52845  0.417234  0.528923  0.374940  0.499970  0.001630  0.612408  0.594603   \n",
       "52846  0.379485  0.482561  0.341230  0.001819  0.442228  0.022463  0.446172   \n",
       "52847  0.734307  0.226054  0.324317  0.429357  0.005914  0.022616  0.417818   \n",
       "\n",
       "           Att8      Att9     Att10  ...     Att25     Att26     Att27  \\\n",
       "0      0.017807  0.032819  0.033009  ...  0.006855  0.017358  0.013430   \n",
       "1      0.003648  0.068381  0.011155  ...  0.005631  0.014048  0.002431   \n",
       "2      0.293543  0.293002  0.029522  ...  0.023837  0.013922  0.081406   \n",
       "3      0.066745  0.115020  0.083407  ...  0.020949  0.023019  0.021147   \n",
       "4      0.055220  0.044184  0.034923  ...  0.034876  0.060708  0.048119   \n",
       "...         ...       ...       ...  ...       ...       ...       ...   \n",
       "52843  0.007482  0.004769  0.018222  ...  0.027851  0.094857  0.095290   \n",
       "52844  0.018815  0.014563  0.007784  ...  0.004589  0.004021  0.004964   \n",
       "52845  0.008641  0.006584  0.003708  ...  0.004282  0.004831  0.026317   \n",
       "52846  0.018756  0.012964  0.047095  ...  0.073563  0.182334  0.221658   \n",
       "52847  0.012414  0.009319  0.014024  ...  0.100213  0.055013  0.024975   \n",
       "\n",
       "          Att28     Att29     Att30     Att31     Att32     Att33  class  \n",
       "0      0.009138  0.006768  0.007291  0.009224  0.036218  0.162955      2  \n",
       "1      0.007076  0.037682  0.003089  0.004207  0.004144  0.005044      2  \n",
       "2      0.413674  0.295615  0.120392  0.036566  0.032652  0.025776      4  \n",
       "3      0.020813  0.019048  0.011606  0.013379  0.044839  0.123552      2  \n",
       "4      0.027417  0.015022  0.010218  0.008121  0.012539  0.018058      1  \n",
       "...         ...       ...       ...       ...       ...       ...    ...  \n",
       "52843  0.044267  0.008017  0.005021  0.006875  0.005422  0.008626      3  \n",
       "52844  0.012643  0.050035  0.203125  0.130514  0.113380  0.038648      3  \n",
       "52845  0.194038  0.200206  0.128182  0.032787  0.012716  0.010405      3  \n",
       "52846  0.184219  0.053162  0.018325  0.011213  0.010824  0.020919      3  \n",
       "52847  0.012760  0.004568  0.007757  0.007115  0.014541  0.008319      3  \n",
       "\n",
       "[52848 rows x 34 columns]"
      ]
     },
     "execution_count": 14,
     "metadata": {},
     "output_type": "execute_result"
    }
   ],
   "source": [
    "dataset_df, classes, classes_encoded = clean_class(dataset_df, 'class')\n",
    "dataset_df"
   ]
  },
  {
   "cell_type": "markdown",
   "id": "6ec05321",
   "metadata": {},
   "source": [
    "*Variables*"
   ]
  },
  {
   "cell_type": "code",
   "execution_count": 15,
   "id": "75317164",
   "metadata": {},
   "outputs": [
    {
     "data": {
      "text/plain": [
       "[dtype('int64'), dtype('float64')]"
      ]
     },
     "execution_count": 15,
     "metadata": {},
     "output_type": "execute_result"
    }
   ],
   "source": [
    "list(set(dataset_df.dtypes.tolist()))"
   ]
  },
  {
   "cell_type": "markdown",
   "id": "34a39e13",
   "metadata": {},
   "source": [
    "Rien à nettoyer !"
   ]
  },
  {
   "cell_type": "markdown",
   "id": "f1d81560",
   "metadata": {},
   "source": [
    "<b>Taille</b>"
   ]
  },
  {
   "cell_type": "code",
   "execution_count": 16,
   "id": "17860784",
   "metadata": {},
   "outputs": [
    {
     "data": {
      "text/plain": [
       "52848"
      ]
     },
     "execution_count": 16,
     "metadata": {},
     "output_type": "execute_result"
    }
   ],
   "source": [
    "Taille = len(dataset_df.index)\n",
    "Taille"
   ]
  },
  {
   "cell_type": "markdown",
   "id": "4a5b6ca0",
   "metadata": {},
   "source": [
    "<b>Variables</b>"
   ]
  },
  {
   "cell_type": "code",
   "execution_count": 17,
   "id": "5c946394",
   "metadata": {
    "scrolled": false
   },
   "outputs": [
    {
     "data": {
      "text/plain": [
       "33"
      ]
     },
     "execution_count": 17,
     "metadata": {},
     "output_type": "execute_result"
    }
   ],
   "source": [
    "Variables = dataset_df.columns.tolist()\n",
    "Variables.pop() # Supprimer class\n",
    "len(Variables)"
   ]
  },
  {
   "cell_type": "markdown",
   "id": "eff6f47a",
   "metadata": {},
   "source": [
    "<b>Classes</b>"
   ]
  },
  {
   "cell_type": "code",
   "execution_count": 18,
   "id": "2a257e22",
   "metadata": {
    "scrolled": false
   },
   "outputs": [
    {
     "data": {
      "text/plain": [
       "['ae-albopictus-male',\n",
       " 'ae-aegypti-male',\n",
       " 'ae-aegypti-female',\n",
       " 'cx-quinq-male',\n",
       " 'cx-quinq-female',\n",
       " 'ae-albopictus-female']"
      ]
     },
     "execution_count": 18,
     "metadata": {},
     "output_type": "execute_result"
    }
   ],
   "source": [
    "list(set(classes))"
   ]
  },
  {
   "cell_type": "code",
   "execution_count": 19,
   "id": "0f1f9eb0",
   "metadata": {},
   "outputs": [
    {
     "name": "stdout",
     "output_type": "stream",
     "text": [
      "0  :  8808\n",
      "1  :  8808\n",
      "2  :  8808\n",
      "3  :  8808\n",
      "4  :  8808\n",
      "5  :  8808\n",
      "Total =  52848\n",
      "Distribution correcte !\n",
      "Nombre de classes trouvées =  6\n"
     ]
    }
   ],
   "source": [
    "classes_dist, classes_correspondance = classes_distribution(dataset_df,\n",
    "                                                            \"class\",\n",
    "                                                            classes,\n",
    "                                                            classes_encoded)"
   ]
  },
  {
   "cell_type": "code",
   "execution_count": 20,
   "id": "3d67a8e3",
   "metadata": {},
   "outputs": [
    {
     "data": {
      "image/png": "[encoded data removed]",
      "text/plain": [
       "<Figure size 432x216 with 1 Axes>"
      ]
     },
     "metadata": {
      "needs_background": "light"
     },
     "output_type": "display_data"
    },
    {
     "data": {
      "image/png": "[encoded data removed]",
      "text/plain": [
       "<Figure size 432x216 with 1 Axes>"
      ]
     },
     "metadata": {},
     "output_type": "display_data"
    }
   ],
   "source": [
    "distribution_plots(classes_dist.keys(),\n",
    "                   classes_dist.values(),\n",
    "                   DATASETS['INSECTS_abrupt_balanced_norm']['name'])"
   ]
  },
  {
   "cell_type": "markdown",
   "id": "ecb7f31d",
   "metadata": {},
   "source": [
    "<strong>| Définition de la fonction <a href=\"#distribution_plots\"> distribution_plots</a> |</strong>"
   ]
  },
  {
   "cell_type": "code",
   "execution_count": 21,
   "id": "816840f4",
   "metadata": {
    "scrolled": true
   },
   "outputs": [
    {
     "name": "stdout",
     "output_type": "stream",
     "text": [
      "---\n",
      "--- name..\n",
      "--- desc..\n",
      "--- size..\n",
      "--- varriables..\n",
      "--- var-nbr..\n",
      "--- var-types..\n",
      "--- classes_dist..\n",
      "--- class-encode..\n",
      "--- class-nbr..\n",
      "--- concept-drift..\n",
      "---\n"
     ]
    }
   ],
   "source": [
    "# Meta informations\n",
    "print('---')\n",
    "dataset_meta = dict()\n",
    "\n",
    "\n",
    "print('--- name..')\n",
    "dataset_meta['name'] = DATASETS['INSECTS_abrupt_balanced_norm']['name']\n",
    "\n",
    "print('--- desc..')\n",
    "dataset_meta['desc'] = \"jeu de données régissant des résultats de capteurs de mouvement de 6 types d'insecte captés dans un piège.\"\n",
    "\n",
    "print('--- size..')\n",
    "dataset_meta['size'] = Taille\n",
    "\n",
    "print('--- varriables..')\n",
    "dataset_meta['varriables'] = Variables\n",
    "\n",
    "print('--- var-nbr..')\n",
    "dataset_meta['var-nbr'] = len(Variables)\n",
    "\n",
    "print('--- var-types..')\n",
    "Variables_types = [str(type_var) for type_var in dataset_df.dtypes.tolist()]\n",
    "Variables_types.pop() # remove class\n",
    "dataset_meta['var-types'] = Variables_types\n",
    "\n",
    "print('--- classes_dist..')\n",
    "dataset_meta['classes'] = classes_dist\n",
    "\n",
    "print('--- class-encode..')\n",
    "if classes_correspondance != None : # Vérification s'il y a une correspondance à faire\n",
    "    dataset_meta['class-encode'] = classes_correspondance\n",
    "\n",
    "print('--- class-nbr..')\n",
    "dataset_meta['class-nbr'] = len(classes_dist.keys())\n",
    "\n",
    "print('--- concept-drift..')\n",
    "dataset_meta['concept-drift'] = \"brusque\"\n",
    "\n",
    "\n",
    "print('---')"
   ]
  },
  {
   "cell_type": "code",
   "execution_count": 22,
   "id": "cd9449a4",
   "metadata": {},
   "outputs": [],
   "source": [
    "# Save dataset\n",
    "dataset_file = os.path.join(DATASETS['INSECTS_abrupt_balanced_norm']['pre-proc-dir'],\n",
    "                            DATASETS['INSECTS_abrupt_balanced_norm']['name'] + '.csv')\n",
    "\n",
    "dataset_df.to_csv(dataset_file, index=False)"
   ]
  },
  {
   "cell_type": "code",
   "execution_count": 23,
   "id": "64b32d1b",
   "metadata": {
    "scrolled": true
   },
   "outputs": [
    {
     "name": "stdout",
     "output_type": "stream",
     "text": [
      "Informations ont été enregistrées avec succès !\n"
     ]
    }
   ],
   "source": [
    "# Save meta\n",
    "meta_file_path = os.path.join(DATASETS['INSECTS_abrupt_balanced_norm']['pre-proc-dir'],\n",
    "                              DATASETS['INSECTS_abrupt_balanced_norm']['name'] + '.meta')\n",
    "\n",
    "with open(meta_file_path, 'w') as meta_file:\n",
    "    json.dump(dataset_meta, meta_file)\n",
    "\n",
    "\n",
    "## Vérification du processus\n",
    "with open(meta_file_path, 'r') as meta_file:\n",
    "    print(\"Informations ont été enregistrées avec succès !\")"
   ]
  },
  {
   "cell_type": "markdown",
   "id": "5fc37f5f",
   "metadata": {},
   "source": [
    "<strong> --- <a href=\"#SOMMAIRE\"> SOMMAIRE </a> --- </strong>"
   ]
  },
  {
   "cell_type": "markdown",
   "id": "1ccd8bd4",
   "metadata": {},
   "source": [
    "<h5 id=\"INSECTS_abrupt_imbalanced_norm\">INSECTS_abrupt_imbalanced_norm</h5>"
   ]
  },
  {
   "cell_type": "markdown",
   "id": "50cc795a",
   "metadata": {},
   "source": [
    "<h5 id=\"INSECTS_gradual_balanced_norm\">INSECTS_gradual_balanced_norm</h5>"
   ]
  },
  {
   "cell_type": "markdown",
   "id": "ad10bab8",
   "metadata": {},
   "source": [
    "<h5 id=\"INSECTS_gradual_imbalanced_norm\">INSECTS_gradual_imbalanced_norm</h5>"
   ]
  },
  {
   "cell_type": "markdown",
   "id": "529a0dd5",
   "metadata": {},
   "source": [
    "<h5 id=\"INSECTS_incremental_balanced_norm\">INSECTS_incremental_balanced_norm</h5>"
   ]
  },
  {
   "cell_type": "markdown",
   "id": "39199f3f",
   "metadata": {},
   "source": [
    "<h5 id=\"INSECTS_incremental_imbalanced_norm\">INSECTS_incremental_imbalanced_norm</h5>"
   ]
  },
  {
   "cell_type": "markdown",
   "id": "26c18947",
   "metadata": {},
   "source": [
    "<h5 id=\"INSECTS_incremental_abrupt_balanced_norm\">INSECTS_incremental_abrupt_balanced_norm</h5>"
   ]
  },
  {
   "cell_type": "markdown",
   "id": "6a66b754",
   "metadata": {},
   "source": [
    "<h5 id=\"INSECTS_incremental_abrupt_imbalanced_norm\">INSECTS_incremental_abrupt_imbalanced_norm</h5>"
   ]
  },
  {
   "cell_type": "markdown",
   "id": "9f0046b1",
   "metadata": {},
   "source": [
    "<h5 id=\"INSECTS_incremental_reoccurring_balanced_norm\">INSECTS_incremental_reoccurring_balanced_norm</h5>"
   ]
  },
  {
   "cell_type": "markdown",
   "id": "4d66031f",
   "metadata": {},
   "source": [
    "<h5 id=\"INSECTS_incremental_reoccurring_imbalanced_norm\">INSECTS_incremental_reoccurring_imbalanced_norm</h5>"
   ]
  },
  {
   "cell_type": "markdown",
   "id": "00370b5d",
   "metadata": {},
   "source": [
    "<h5 id=\"INSECTS_out_of_control_norm\">INSECTS_out_of_control_norm</h5>"
   ]
  },
  {
   "cell_type": "markdown",
   "id": "f54474c2",
   "metadata": {},
   "source": [
    "<hr>\n",
    "<div style=\"display: flex;\">\n",
    "    <div style=\"margin: 10px;\"><strong><a href=\"./I-Introduction.ipynb\">précédent</a></strong></div>\n",
    "    <div style=\"margin: 10px;\"><strong><a href=\"\">suivant</a></strong></div>\n",
    "</div>"
   ]
  }
 ],
 "metadata": {
  "kernelspec": {
   "display_name": "Python 3 (ipykernel)",
   "language": "python",
   "name": "python3"
  },
  "language_info": {
   "codemirror_mode": {
    "name": "ipython",
    "version": 3
   },
   "file_extension": ".py",
   "mimetype": "text/x-python",
   "name": "python",
   "nbconvert_exporter": "python",
   "pygments_lexer": "ipython3",
   "version": "3.9.12"
  }
 },
 "nbformat": 4,
 "nbformat_minor": 5
}
